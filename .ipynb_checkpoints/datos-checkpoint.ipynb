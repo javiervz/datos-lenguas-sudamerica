{
 "cells": [
  {
   "cell_type": "markdown",
   "metadata": {},
   "source": [
    "# Bases de datos sobre lenguas de Sudamérica"
   ]
  },
  {
   "cell_type": "markdown",
   "metadata": {},
   "source": [
    "## A. SAILS\n",
    "### https://sails.clld.org/"
   ]
  },
  {
   "cell_type": "markdown",
   "metadata": {},
   "source": [
    "### Leemos los datos desde https://github.com/cldf-datasets/sails"
   ]
  },
  {
   "cell_type": "markdown",
   "metadata": {},
   "source": [
    "#### Lenguas en SAILS"
   ]
  },
  {
   "cell_type": "code",
   "execution_count": 1,
   "metadata": {},
   "outputs": [],
   "source": [
    "## usemos pandas\n",
    "\n",
    "import pandas as pd"
   ]
  },
  {
   "cell_type": "code",
   "execution_count": 2,
   "metadata": {},
   "outputs": [],
   "source": [
    "## lenguas\n",
    "\n",
    "languages = pd.read_csv('languages.csv',sep=',')"
   ]
  },
  {
   "cell_type": "code",
   "execution_count": 3,
   "metadata": {},
   "outputs": [
    {
     "data": {
      "text/html": [
       "<div>\n",
       "<style scoped>\n",
       "    .dataframe tbody tr th:only-of-type {\n",
       "        vertical-align: middle;\n",
       "    }\n",
       "\n",
       "    .dataframe tbody tr th {\n",
       "        vertical-align: top;\n",
       "    }\n",
       "\n",
       "    .dataframe thead th {\n",
       "        text-align: right;\n",
       "    }\n",
       "</style>\n",
       "<table border=\"1\" class=\"dataframe\">\n",
       "  <thead>\n",
       "    <tr style=\"text-align: right;\">\n",
       "      <th></th>\n",
       "      <th>ID</th>\n",
       "      <th>Name</th>\n",
       "      <th>Macroarea</th>\n",
       "      <th>Latitude</th>\n",
       "      <th>Longitude</th>\n",
       "      <th>Glottocode</th>\n",
       "      <th>ISO639P3code</th>\n",
       "    </tr>\n",
       "  </thead>\n",
       "  <tbody>\n",
       "    <tr>\n",
       "      <th>0</th>\n",
       "      <td>NOCODE_Apolista</td>\n",
       "      <td>Apolista</td>\n",
       "      <td>NaN</td>\n",
       "      <td>-14.830000</td>\n",
       "      <td>-68.660000</td>\n",
       "      <td>apol1242</td>\n",
       "      <td>NaN</td>\n",
       "    </tr>\n",
       "    <tr>\n",
       "      <th>1</th>\n",
       "      <td>NOCODE_Maipure</td>\n",
       "      <td>Maipure</td>\n",
       "      <td>NaN</td>\n",
       "      <td>4.800000</td>\n",
       "      <td>-67.500000</td>\n",
       "      <td>maip1246</td>\n",
       "      <td>NaN</td>\n",
       "    </tr>\n",
       "    <tr>\n",
       "      <th>2</th>\n",
       "      <td>aca</td>\n",
       "      <td>Achagua</td>\n",
       "      <td>NaN</td>\n",
       "      <td>4.386490</td>\n",
       "      <td>-72.200500</td>\n",
       "      <td>acha1250</td>\n",
       "      <td>aca</td>\n",
       "    </tr>\n",
       "    <tr>\n",
       "      <th>3</th>\n",
       "      <td>acu</td>\n",
       "      <td>Achuar-Shiwiar</td>\n",
       "      <td>NaN</td>\n",
       "      <td>-2.826455</td>\n",
       "      <td>-77.264050</td>\n",
       "      <td>achu1248</td>\n",
       "      <td>acu</td>\n",
       "    </tr>\n",
       "    <tr>\n",
       "      <th>4</th>\n",
       "      <td>agr</td>\n",
       "      <td>Aguaruna</td>\n",
       "      <td>NaN</td>\n",
       "      <td>-5.300440</td>\n",
       "      <td>-77.921790</td>\n",
       "      <td>agua1253</td>\n",
       "      <td>agr</td>\n",
       "    </tr>\n",
       "    <tr>\n",
       "      <th>...</th>\n",
       "      <td>...</td>\n",
       "      <td>...</td>\n",
       "      <td>...</td>\n",
       "      <td>...</td>\n",
       "      <td>...</td>\n",
       "      <td>...</td>\n",
       "      <td>...</td>\n",
       "    </tr>\n",
       "    <tr>\n",
       "      <th>162</th>\n",
       "      <td>yrl</td>\n",
       "      <td>Nhengatu</td>\n",
       "      <td>NaN</td>\n",
       "      <td>1.045027</td>\n",
       "      <td>-66.964553</td>\n",
       "      <td>nhen1239</td>\n",
       "      <td>yrl</td>\n",
       "    </tr>\n",
       "    <tr>\n",
       "      <th>163</th>\n",
       "      <td>yuq</td>\n",
       "      <td>Yuqui</td>\n",
       "      <td>NaN</td>\n",
       "      <td>-16.787520</td>\n",
       "      <td>-64.943820</td>\n",
       "      <td>yuqu1240</td>\n",
       "      <td>yuq</td>\n",
       "    </tr>\n",
       "    <tr>\n",
       "      <th>164</th>\n",
       "      <td>yuz</td>\n",
       "      <td>Yuracaré</td>\n",
       "      <td>NaN</td>\n",
       "      <td>-16.747880</td>\n",
       "      <td>-65.122410</td>\n",
       "      <td>yura1255</td>\n",
       "      <td>yuz</td>\n",
       "    </tr>\n",
       "    <tr>\n",
       "      <th>165</th>\n",
       "      <td>yvt</td>\n",
       "      <td>Yavitero</td>\n",
       "      <td>NaN</td>\n",
       "      <td>2.800281</td>\n",
       "      <td>-68.084219</td>\n",
       "      <td>yavi1244</td>\n",
       "      <td>yvt</td>\n",
       "    </tr>\n",
       "    <tr>\n",
       "      <th>166</th>\n",
       "      <td>zro</td>\n",
       "      <td>Záparo</td>\n",
       "      <td>NaN</td>\n",
       "      <td>-1.998710</td>\n",
       "      <td>-76.363980</td>\n",
       "      <td>zapa1253</td>\n",
       "      <td>zro</td>\n",
       "    </tr>\n",
       "  </tbody>\n",
       "</table>\n",
       "<p>167 rows × 7 columns</p>\n",
       "</div>"
      ],
      "text/plain": [
       "                  ID            Name  Macroarea   Latitude  Longitude  \\\n",
       "0    NOCODE_Apolista        Apolista        NaN -14.830000 -68.660000   \n",
       "1     NOCODE_Maipure         Maipure        NaN   4.800000 -67.500000   \n",
       "2                aca         Achagua        NaN   4.386490 -72.200500   \n",
       "3                acu  Achuar-Shiwiar        NaN  -2.826455 -77.264050   \n",
       "4                agr        Aguaruna        NaN  -5.300440 -77.921790   \n",
       "..               ...             ...        ...        ...        ...   \n",
       "162              yrl        Nhengatu        NaN   1.045027 -66.964553   \n",
       "163              yuq           Yuqui        NaN -16.787520 -64.943820   \n",
       "164              yuz        Yuracaré        NaN -16.747880 -65.122410   \n",
       "165              yvt        Yavitero        NaN   2.800281 -68.084219   \n",
       "166              zro          Záparo        NaN  -1.998710 -76.363980   \n",
       "\n",
       "    Glottocode ISO639P3code  \n",
       "0     apol1242          NaN  \n",
       "1     maip1246          NaN  \n",
       "2     acha1250          aca  \n",
       "3     achu1248          acu  \n",
       "4     agua1253          agr  \n",
       "..         ...          ...  \n",
       "162   nhen1239          yrl  \n",
       "163   yuqu1240          yuq  \n",
       "164   yura1255          yuz  \n",
       "165   yavi1244          yvt  \n",
       "166   zapa1253          zro  \n",
       "\n",
       "[167 rows x 7 columns]"
      ]
     },
     "execution_count": 3,
     "metadata": {},
     "output_type": "execute_result"
    }
   ],
   "source": [
    "languages"
   ]
  },
  {
   "cell_type": "code",
   "execution_count": 4,
   "metadata": {},
   "outputs": [],
   "source": [
    "## diccionario glottocode: [name,latitude,longitude]\n",
    "\n",
    "glotto_geo = languages[['ID','Glottocode','Name','Latitude','Longitude']]"
   ]
  },
  {
   "cell_type": "code",
   "execution_count": 5,
   "metadata": {},
   "outputs": [],
   "source": [
    "## transformamos a diccionario\n",
    "\n",
    "id_iso = list(glotto_geo['ID'])\n",
    "glotto = list(glotto_geo['Glottocode'])\n",
    "names = list(glotto_geo['Name'])\n",
    "lat = list(glotto_geo['Latitude'])\n",
    "lon = list(glotto_geo['Longitude'])\n",
    "\n",
    "glotto_geo_pairs = []\n",
    "\n",
    "for i in range(len(glotto)):\n",
    "    glotto_geo_pairs += [[id_iso[i],glotto[i],names[i],lat[i],lon[i]]]\n",
    "\n",
    "glotto_geo = {item[0]:[item[1],item[2],item[3],item[4]] for item in glotto_geo_pairs}"
   ]
  },
  {
   "cell_type": "code",
   "execution_count": 6,
   "metadata": {},
   "outputs": [
    {
     "data": {
      "text/plain": [
       "{'NOCODE_Apolista': ['apol1242', 'Apolista', -14.83, -68.66],\n",
       " 'NOCODE_Maipure': ['maip1246', 'Maipure', 4.8, -67.5],\n",
       " 'aca': ['acha1250', 'Achagua', 4.38649, -72.2005],\n",
       " 'acu': ['achu1248', 'Achuar-Shiwiar', -2.8264549999999997, -77.26405],\n",
       " 'agr': ['agua1253', 'Aguaruna', -5.30044, -77.92179],\n",
       " 'ame': ['yane1238', \"Yanesha'\", -10.54539, -75.31497],\n",
       " 'amr': ['amar1274', 'Amarakaeri', -12.49308, -70.55333],\n",
       " 'apu': ['apur1254', 'Apurinã', -8.21692, -66.77141],\n",
       " 'apy': ['apal1257', 'Apalaí', 1.4979200000000001, -54.7457],\n",
       " 'arh': ['arhu1242', 'Arhuaco', 10.701839999999999, -73.63629],\n",
       " 'arl': ['arab1268', 'Arabela', -1.9612599999999998, -75.06116999999999],\n",
       " 'arn': ['mapu1245', 'Mapudungun', -38.73917, -71.27701],\n",
       " 'arr': ['karo1305', 'Karo (Brazil)', -10.33424, -61.56908000000001],\n",
       " 'arw': ['araw1276', 'Lokono', 5.6429525, -56.924344999999995],\n",
       " 'auc': ['waor1240', 'Waorani', -1.1231200000000001, -76.68295],\n",
       " 'awe': ['awet1244', 'Awetí', -12.933580000000001, -53.585190000000004],\n",
       " 'ayc': ['sout2996', 'Southern Aymara', -17.14171, -70.34424],\n",
       " 'ayo': ['ayor1240', 'Ayoreo', -19.220055, -60.21749499999999],\n",
       " 'ayr': ['cent2142', 'Central Aymara', -17.0, -68.5],\n",
       " 'bae': ['bare1276', 'Baré', 1.9164900000000002, -66.82799],\n",
       " 'boa': ['bora1263', 'Bora', -2.91467, -68.90929],\n",
       " 'bor': ['boro1282', 'Bororo', -16.60295, -55.200430000000004],\n",
       " 'brg': ['baur1253', 'Baure', -13.12775, -64.18381],\n",
       " 'bvv': ['bani1254', 'Baniva', 5.26123, -67.56326999999999],\n",
       " 'cab': ['gari1256', 'Garifuna', 15.352867499999999, -86.90905749999999],\n",
       " 'cap': ['chip1262', 'Chipaya', -18.73951, -67.89633],\n",
       " 'cas': ['mose1249', 'Mosetén', -14.64448, -67.83756],\n",
       " 'cav': ['cavi1250', 'Cavineña', -13.354410000000001, -66.62773],\n",
       " 'caw': ['call1235', 'Callawalla', -15.88451, -68.10176],\n",
       " 'cbg': ['chim1309', 'Chimila', 10.19016, -74.25585],\n",
       " 'cbr': ['cash1251', 'Cashibo-Cacataibo', -8.70232, -75.42062],\n",
       " 'cbt': ['chay1248', 'Shawi', -5.63764, -76.82525],\n",
       " 'ccc': ['cham1318', 'Chamicuro', -5.1149, -75.67785],\n",
       " 'ceg': ['cham1315', 'Chamacoco', -20.589879999999997, -58.200469999999996],\n",
       " 'cht': ['chol1284', 'Cholón', -9.23129, -75.96211],\n",
       " 'cni': ['asha1243', 'Asháninka', -11.93109, -73.90728],\n",
       " 'cod': ['coca1259', 'Cocama-Cocamilla', -4.5, -74.0],\n",
       " 'cof': ['colo1256', 'Tsafiki', -0.21181, -79.23468000000001],\n",
       " 'con': ['cofa1242', 'Cofán', 0.276675, -77.064305],\n",
       " 'cox': ['nant1250', 'Nanti', -12.10185, -72.35065999999999],\n",
       " 'crb': ['isla1278', 'Island Carib', 14.290585, -61.239505],\n",
       " 'cub': ['cube1242', 'Cubeo', 1.32382, -70.193935],\n",
       " 'cuj': ['mash1270', 'Mashco Piro', -11.47453, -70.79527],\n",
       " 'cuk': ['sanb1242', 'San Blas Kuna', 9.15686, -78.3075],\n",
       " 'des': ['desa1247', 'Desano', 0.58157, -69.49554499999999],\n",
       " 'eme': ['emer1243', 'Emerillon', 3.23694, -52.369859999999996],\n",
       " 'emp': ['nort2972', 'Northern Emberá', 7.127610000000001, -77.57396],\n",
       " 'ese': ['esee1248', 'Ese Ejja', -11.72683, -67.51496],\n",
       " 'gae': ['guar1293', 'Guarequena', 1.80835, -66.922505],\n",
       " 'gqn': ['guan1270', 'Guana (Brazil)', -19.16665, -54.033319999999996],\n",
       " 'gta': ['guat1253', 'Guató', -17.86961, -57.28974],\n",
       " 'guc': ['wayu1243', 'Wayuu', 10.22515, -71.81012],\n",
       " 'gvo': ['gavi1246', 'Gavião Do Jiparaná', -10.7235, -61.67521],\n",
       " 'gym': ['ngab1239', 'Ngäbere', 8.825105, -82.391125],\n",
       " 'hix': ['hixk1239', 'Hixkaryána', -0.16265, -58.80153000000001],\n",
       " 'ign': ['igna1246', 'Ignaciano', -15.118820000000001, -65.39934000000001],\n",
       " 'inb': ['inga1252', 'Inga', 1.0031299999999999, -76.86062],\n",
       " 'inp': ['inap1243', 'Iñapari', -12.46525, -69.30827],\n",
       " 'iqu': ['iqui1243', 'Iquito', -3.31233, -73.97046],\n",
       " 'ito': ['iton1250', 'Itonama', -12.804310000000001, -64.35748000000001],\n",
       " 'jaa': ['jama1261', 'Jamamadí', -7.62223, -66.56619],\n",
       " 'jic': ['toll1241', 'Tol', 14.66859, -87.03719],\n",
       " 'jiv': ['shua1257', 'Shuar', -3.4513599999999998, -78.18923000000001],\n",
       " 'jqr': ['jaqa1244', 'Jaqaru', -12.88233, -75.89576],\n",
       " 'jup': ['hupd1244', 'Hupdë', 0.58622, -69.835915],\n",
       " 'jur': ['juru1256', 'Jurúna', -10.935410000000001, -53.34717],\n",
       " 'kay': ['kama1373', 'Kamayurá', -12.266060000000001, -53.465140000000005],\n",
       " 'kbc': ['kadi1248', 'Kadiwéu', -19.72224, -57.58201999999999],\n",
       " 'kgp': ['kain1272', 'Kaingang', -27.76708, -52.53937],\n",
       " 'knm': ['kana1291', 'Katukína-Kanamarí', -6.45399, -68.7678],\n",
       " 'kpc': ['curr1243', 'Curripaco', 0.69618, -67.50277],\n",
       " 'ktn': ['kari1311', 'Karitiâna', -9.37937, -64.15219],\n",
       " 'kwa': ['daww1239', 'Dâw', -0.1177, -67.29341],\n",
       " 'kwi': ['awac1239', 'Awa-Cuaiquer', 1.216525, -78.340135],\n",
       " 'kxo': ['kano1245', 'Kanoê', -12.178939999999999, -64.58121],\n",
       " 'lao': ['laoo1244', 'Lao', 16.07262, 104.56848000000001],\n",
       " 'lec': ['leco1242', 'Leco', -15.009210000000001, -67.88181],\n",
       " 'lkd': ['lako1248', 'Lakondê', -13.2, -60.5],\n",
       " 'mav': ['sate1243', 'Sateré-Mawé', -3.6389699999999996, -56.87489],\n",
       " 'mbp': ['mala1522', 'Malayo', 10.92861, -73.40561],\n",
       " 'mca': ['maca1260', 'Maca', -25.011860000000002, -57.36935],\n",
       " 'mcb': ['mach1267', 'Machiguenga', -12.12905, -72.50171],\n",
       " 'mcf': ['mats1244', 'Matsés', -5.739145, -72.628105],\n",
       " 'miq': ['misk1235', 'Mískito', 15.157575, -84.294175],\n",
       " 'mmh': ['mehi1240', 'Mehináku', -12.536389999999999, -53.52095],\n",
       " 'moc': ['moco1246', 'Mocoví', -28.09699, -60.414480000000005],\n",
       " 'mpu': ['maku1278', 'Makuráp', -11.87014, -64.32007],\n",
       " 'mtp': ['wich1262', 'Wichí Lhamtés Nocten', -21.987995, -63.59711],\n",
       " 'myr': ['muni1258', 'Muniche', -5.80546, -76.28113],\n",
       " 'myu': ['mund1330', 'Mundurukú', -8.41095, -57.69099],\n",
       " 'mzp': ['movi1243', 'Movima', -13.811520000000002, -65.63481999999999],\n",
       " 'not': ['noma1263', 'Nomatsiguenga', -11.53487, -74.43713000000001],\n",
       " 'omc': ['moch1259', 'Mochica', -8.01666666667, -79.0],\n",
       " 'ona': ['onaa1245', \"Selk'nam\", -54.0, -68.5],\n",
       " 'pab': ['pare1272', 'Parecís', -14.59295, -57.40595],\n",
       " 'pap': ['papi1253', 'Papiamento', 12.48485, -69.93988],\n",
       " 'pav': ['wari1268', 'Wari', -10.69948, -64.56152],\n",
       " 'pay': ['pech1241', 'Pech', 15.80331, -85.55802],\n",
       " 'pbb': ['paez1247', 'Páez', 2.61516, -76.31254],\n",
       " 'pbh': ['enap1235', 'Panare', 6.95035, -65.84825],\n",
       " 'pio': ['piap1246', 'Piapoco', 4.37718, -68.595285],\n",
       " 'plg': ['pila1245', 'Pilagá', -25.00585, -60.15371999999999],\n",
       " 'plu': ['pali1279', 'Palikúr', 3.63993, -51.62465],\n",
       " 'pnk': ['paun1241', 'Paunaca', -16.770833, -61.454167000000005],\n",
       " 'prq': ['ashe1272', 'Ashéninka Perené', -10.97772, -74.91528000000001],\n",
       " 'pue': ['puel1244', 'Puelche', -36.637570000000004, -62.941269999999996],\n",
       " 'pui': ['puin1248', 'Puinave', 3.9297400000000002, -67.6886],\n",
       " 'qub': ['hual1241', 'Huallaga Huánuco Quechua', -9.57135, -75.59401],\n",
       " 'quh': ['sout2991', 'South Bolivian Quechua', -20.920095, -66.333145],\n",
       " 'qup': ['sout2990',\n",
       "  'Southern Pastaza Quechua',\n",
       "  -3.3273300000000003,\n",
       "  -76.52696999999999],\n",
       " 'qus': ['sant1432',\n",
       "  'Santiago del Estero Quichua',\n",
       "  -27.820959999999996,\n",
       "  -63.24657],\n",
       " 'quw': ['tena1240', 'Tena Lowland Quichua', -0.76271, -77.54039],\n",
       " 'qux': ['yauy1235',\n",
       "  'Huangascar-Topara-Yauyos Quechua',\n",
       "  -13.114429999999999,\n",
       "  -75.76589],\n",
       " 'quy': ['ayac1239', 'Ayacucho Quechua', -13.84714, -74.32245999999999],\n",
       " 'quz': ['cusc1236', 'Cusco Quechua', -14.085270000000001, -71.76625],\n",
       " 'qvc': ['caja1238', 'Cajamarca Quechua', -7.093139999999999, -78.32141],\n",
       " 'qvi': ['imba1240', 'Imbabura Highland Quichua', 0.31776, -78.37286],\n",
       " 'qvn': ['nort2980', 'North Junín Quechua', -11.21321, -75.81275],\n",
       " 'qvp': ['paca1245', 'Pacaraos Quechua', -11.14278, -76.73046],\n",
       " 'qvs': ['sanm1289', 'San Martín Quechua', -6.9582, -76.6608],\n",
       " 'qwh': ['huay1240', 'Huaylas Ancash Quechua', -9.387089999999999, -77.77681],\n",
       " 'qxl': ['sala1272', 'Salasaca Highland Quichua', -1.35447, -78.39531],\n",
       " 'qxw': ['jauj1238', 'Jauja Wanca Quechua', -11.67473, -75.2786],\n",
       " 'ram': ['cane1242', 'Canela', -6.10712, -45.1299],\n",
       " 'rey': ['reye1240', 'Reyesano', -14.83332, -67.08332],\n",
       " 'rgr': ['resi1247', 'Resígaro', -2.48139, -71.35778],\n",
       " 'rkb': ['rikb1245', 'Rikbaktsa', -11.18865, -58.19424],\n",
       " 'rma': ['rama1270', 'Rama', 11.500689999999999, -83.85714],\n",
       " 'rus': ['russ1263', 'Russian', 59.0, 50.0],\n",
       " 'sae': ['saba1268', 'Sabanê', -12.98572, -60.33498],\n",
       " 'sar': ['sara1331', 'Saraveca', -11.94232, -65.39446],\n",
       " 'sey': ['seco1241', 'Secoya', -0.45978500000000005, -75.554725],\n",
       " 'shb': ['nina1238', 'Ninam', 4.0389349999999995, -62.780115],\n",
       " 'shp': ['ship1254', 'Shipibo-Conibo', -7.17105, -74.82191999999999],\n",
       " 'sja': ['epen1239', 'Epena', 4.258768, -77.35656800000001],\n",
       " 'skf': ['saki1248', 'Sakirabia', -13.05395, -62.09274],\n",
       " 'snn': ['sion1247', 'Siona-Tetete', 0.31733, -76.02367],\n",
       " 'spa': ['stan1288', 'Spanish', 40.4414175, -1.11788],\n",
       " 'tae': ['tari1256', 'Tariana', 0.440205, -68.904165],\n",
       " 'teh': ['tehu1242', 'Tehuelche', -47.57963, -68.32346],\n",
       " 'ter': ['tere1279', 'Tereno', -20.661360000000002, -56.03292],\n",
       " 'tfr': ['teri1250', 'Teribe', 9.067, -82.96313],\n",
       " 'tnq': ['tain1254', 'Taino', 18.283604999999998, -66.8042],\n",
       " 'tob': ['toba1269', 'Toba', -24.40253, -60.4472866667],\n",
       " 'tpj': ['tapi1253', 'Tapieté', -21.4168866667, -62.683969999999995],\n",
       " 'tpy': ['trum1247', 'Trumai', -11.81195, -53.5717],\n",
       " 'tri': ['trio1238', 'Trió', 2.5361599999999997, -55.759935],\n",
       " 'trr': ['taus1253', 'Taushiro', -3.22497, -75.5603],\n",
       " 'tur': ['nucl1301', 'Turkish', 39.866667, 32.866667],\n",
       " 'txi': ['ikpe1245', 'Ikpeng', -11.378219999999999, -53.49553],\n",
       " 'unk': ['enaw1238', 'Enawené-Nawé', -12.43024, -58.9802],\n",
       " 'ura': ['urar1246', 'Urarina', -4.44006, -75.42107],\n",
       " 'ure': ['uruu1244', 'Uru', -16.72547, -68.97119],\n",
       " 'wap': ['wapi1253', 'Wapishana', 2.5874349999999997, -59.802119999999995],\n",
       " 'wau': ['waur1244', 'Waurá', -13.295979999999998, -53.697109999999995],\n",
       " 'wba': ['wara1303', 'Warao', 7.50850666667, -59.3527633333],\n",
       " 'wmd': ['mama1278', 'Mamaindé', -12.986439, -60.101071999999995],\n",
       " 'wyr': ['wayo1238', 'Wayoró', -12.694469999999999, -61.30635],\n",
       " 'xav': ['xava1240', 'Xavánte', -14.30173, -52.436690000000006],\n",
       " 'xwa': ['kwaz1243', 'Kwaza', -11.666666666700001, -61.1833333333],\n",
       " 'yaa': ['yami1256', 'Yaminahua', -9.88459666667, -71.5964333333],\n",
       " 'ycn': ['yucu1253', 'Yucuna', -0.76075, -71.00327],\n",
       " 'yrl': ['nhen1239', 'Nhengatu', 1.04502666667, -66.9645533333],\n",
       " 'yuq': ['yuqu1240', 'Yuqui', -16.78752, -64.94382],\n",
       " 'yuz': ['yura1255', 'Yuracaré', -16.74788, -65.12241],\n",
       " 'yvt': ['yavi1244', 'Yavitero', 2.800281, -68.08421899999999],\n",
       " 'zro': ['zapa1253', 'Záparo', -1.9987099999999998, -76.36398]}"
      ]
     },
     "execution_count": 6,
     "metadata": {},
     "output_type": "execute_result"
    }
   ],
   "source": [
    "glotto_geo"
   ]
  },
  {
   "cell_type": "code",
   "execution_count": 7,
   "metadata": {},
   "outputs": [
    {
     "data": {
      "text/plain": [
       "167"
      ]
     },
     "execution_count": 7,
     "metadata": {},
     "output_type": "execute_result"
    }
   ],
   "source": [
    "## número de lenguas en SAILS\n",
    "\n",
    "len(glotto_geo)"
   ]
  },
  {
   "cell_type": "markdown",
   "metadata": {},
   "source": [
    "#### Rasgos en SAILS"
   ]
  },
  {
   "cell_type": "code",
   "execution_count": 8,
   "metadata": {},
   "outputs": [],
   "source": [
    "## rasgos\n",
    "\n",
    "features = pd.read_csv('values.csv',sep=',')"
   ]
  },
  {
   "cell_type": "code",
   "execution_count": 9,
   "metadata": {},
   "outputs": [],
   "source": [
    "## filtramos el dataframe features\n",
    "## Language_ID: identificador lengua, código iso + códigos de SAILS cuando no hay iso\n",
    "## Parameter_ID: nombre del rasgos\n",
    "## Value: valor del rasgos\n",
    "\n",
    "features = features[['Language_ID','Parameter_ID','Value']]"
   ]
  },
  {
   "cell_type": "code",
   "execution_count": 14,
   "metadata": {},
   "outputs": [
    {
     "name": "stdout",
     "output_type": "stream",
     "text": [
      "604\n"
     ]
    }
   ],
   "source": [
    "## número de rasgos en SAILS\n",
    "\n",
    "feature_names = set(features['Parameter_ID'])\n",
    "print(len(feature_names))"
   ]
  },
  {
   "cell_type": "code",
   "execution_count": 10,
   "metadata": {},
   "outputs": [],
   "source": [
    "## lenguas de SAILS\n",
    "\n",
    "languages_sails = list(glotto_geo.keys())"
   ]
  },
  {
   "cell_type": "code",
   "execution_count": 11,
   "metadata": {},
   "outputs": [],
   "source": [
    "## diccionario para guardar los datos\n",
    "## D = language_ID:[Paramater_ID:Value,...]\n",
    "\n",
    "D = {lengua:{} for lengua in languages_sails}"
   ]
  },
  {
   "cell_type": "code",
   "execution_count": 12,
   "metadata": {},
   "outputs": [],
   "source": [
    "## recorremos el dataframe features\n",
    "\n",
    "## recorremos usando loc :)\n",
    "for i in list(features.index):\n",
    "    D[features.loc[i,'Language_ID']][features.loc[i,'Parameter_ID']]=features.loc[i,'Value']"
   ]
  },
  {
   "cell_type": "code",
   "execution_count": 16,
   "metadata": {},
   "outputs": [
    {
     "name": "stdout",
     "output_type": "stream",
     "text": [
      "190.37125748502993\n"
     ]
    }
   ],
   "source": [
    "## promedio de rasgos x lengua en SAILS\n",
    "import numpy as np\n",
    "\n",
    "feature_values = list(D.values())\n",
    "feature_values_mean = np.mean([len(L) for L in feature_values])\n",
    "print(feature_values_mean)"
   ]
  },
  {
   "cell_type": "code",
   "execution_count": null,
   "metadata": {},
   "outputs": [],
   "source": []
  }
 ],
 "metadata": {
  "kernelspec": {
   "display_name": "conda_python3",
   "language": "python",
   "name": "conda_python3"
  },
  "language_info": {
   "codemirror_mode": {
    "name": "ipython",
    "version": 3
   },
   "file_extension": ".py",
   "mimetype": "text/x-python",
   "name": "python",
   "nbconvert_exporter": "python",
   "pygments_lexer": "ipython3",
   "version": "3.6.10"
  }
 },
 "nbformat": 4,
 "nbformat_minor": 4
}
