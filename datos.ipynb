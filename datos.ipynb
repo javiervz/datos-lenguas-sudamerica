{
 "cells": [
  {
   "cell_type": "markdown",
   "metadata": {},
   "source": [
    "# Bases de datos sobre lenguas de Sudamérica"
   ]
  },
  {
   "cell_type": "markdown",
   "metadata": {},
   "source": [
    "## A. SAILS\n",
    "### https://sails.clld.org/"
   ]
  },
  {
   "cell_type": "code",
   "execution_count": 26,
   "metadata": {},
   "outputs": [
    {
     "name": "stdout",
     "output_type": "stream",
     "text": [
      "Requirement already satisfied: lingtypology in /home/ec2-user/anaconda3/envs/python3/lib/python3.6/site-packages (0.8.6)\n",
      "Requirement already satisfied: pandas in /home/ec2-user/anaconda3/envs/python3/lib/python3.6/site-packages (from lingtypology) (1.0.3)\n",
      "Requirement already satisfied: branca in /home/ec2-user/anaconda3/envs/python3/lib/python3.6/site-packages (from lingtypology) (0.4.1)\n",
      "Requirement already satisfied: matplotlib in /home/ec2-user/anaconda3/envs/python3/lib/python3.6/site-packages (from lingtypology) (3.1.3)\n",
      "Requirement already satisfied: pyglottolog in /home/ec2-user/anaconda3/envs/python3/lib/python3.6/site-packages (from lingtypology) (3.2.2)\n",
      "Requirement already satisfied: colour in /home/ec2-user/anaconda3/envs/python3/lib/python3.6/site-packages (from lingtypology) (0.1.5)\n",
      "Requirement already satisfied: jinja2 in /home/ec2-user/anaconda3/envs/python3/lib/python3.6/site-packages (from lingtypology) (2.11.1)\n",
      "Requirement already satisfied: folium in /home/ec2-user/anaconda3/envs/python3/lib/python3.6/site-packages (from lingtypology) (0.11.0)\n",
      "Requirement already satisfied: selenium in /home/ec2-user/anaconda3/envs/python3/lib/python3.6/site-packages (from lingtypology) (3.141.0)\n",
      "Requirement already satisfied: pytz>=2017.2 in /home/ec2-user/anaconda3/envs/python3/lib/python3.6/site-packages (from pandas->lingtypology) (2019.3)\n",
      "Requirement already satisfied: numpy>=1.13.3 in /home/ec2-user/anaconda3/envs/python3/lib/python3.6/site-packages (from pandas->lingtypology) (1.18.1)\n",
      "Requirement already satisfied: python-dateutil>=2.6.1 in /home/ec2-user/anaconda3/envs/python3/lib/python3.6/site-packages (from pandas->lingtypology) (2.8.1)\n",
      "Requirement already satisfied: pyparsing!=2.0.4,!=2.1.2,!=2.1.6,>=2.0.1 in /home/ec2-user/anaconda3/envs/python3/lib/python3.6/site-packages (from matplotlib->lingtypology) (2.4.6)\n",
      "Requirement already satisfied: kiwisolver>=1.0.1 in /home/ec2-user/anaconda3/envs/python3/lib/python3.6/site-packages (from matplotlib->lingtypology) (1.1.0)\n",
      "Requirement already satisfied: cycler>=0.10 in /home/ec2-user/anaconda3/envs/python3/lib/python3.6/site-packages (from matplotlib->lingtypology) (0.10.0)\n",
      "Requirement already satisfied: newick>=0.9.2 in /home/ec2-user/anaconda3/envs/python3/lib/python3.6/site-packages (from pyglottolog->lingtypology) (1.0.0)\n",
      "Requirement already satisfied: pybtex>=0.22 in /home/ec2-user/anaconda3/envs/python3/lib/python3.6/site-packages (from pyglottolog->lingtypology) (0.22.2)\n",
      "Requirement already satisfied: unidecode in /home/ec2-user/anaconda3/envs/python3/lib/python3.6/site-packages (from pyglottolog->lingtypology) (1.1.1)\n",
      "Requirement already satisfied: tqdm in /home/ec2-user/anaconda3/envs/python3/lib/python3.6/site-packages (from pyglottolog->lingtypology) (4.44.1)\n",
      "Requirement already satisfied: termcolor in /home/ec2-user/anaconda3/envs/python3/lib/python3.6/site-packages (from pyglottolog->lingtypology) (1.1.0)\n",
      "Requirement already satisfied: requests in /home/ec2-user/anaconda3/envs/python3/lib/python3.6/site-packages (from pyglottolog->lingtypology) (2.23.0)\n",
      "Requirement already satisfied: nameparser in /home/ec2-user/anaconda3/envs/python3/lib/python3.6/site-packages (from pyglottolog->lingtypology) (1.0.6)\n",
      "Requirement already satisfied: cldfcatalog in /home/ec2-user/anaconda3/envs/python3/lib/python3.6/site-packages (from pyglottolog->lingtypology) (1.3.0)\n",
      "Requirement already satisfied: markdown in /home/ec2-user/anaconda3/envs/python3/lib/python3.6/site-packages (from pyglottolog->lingtypology) (3.2.2)\n",
      "Requirement already satisfied: sqlalchemy in /home/ec2-user/anaconda3/envs/python3/lib/python3.6/site-packages (from pyglottolog->lingtypology) (1.3.15)\n",
      "Requirement already satisfied: latexcodec in /home/ec2-user/anaconda3/envs/python3/lib/python3.6/site-packages (from pyglottolog->lingtypology) (2.0.1)\n",
      "Requirement already satisfied: clldutils>=3.5.2 in /home/ec2-user/anaconda3/envs/python3/lib/python3.6/site-packages (from pyglottolog->lingtypology) (3.5.2)\n",
      "Requirement already satisfied: pycountry>=18.12.8 in /home/ec2-user/anaconda3/envs/python3/lib/python3.6/site-packages (from pyglottolog->lingtypology) (20.7.3)\n",
      "Requirement already satisfied: purl in /home/ec2-user/anaconda3/envs/python3/lib/python3.6/site-packages (from pyglottolog->lingtypology) (1.5)\n",
      "Requirement already satisfied: csvw>=1.5.6 in /home/ec2-user/anaconda3/envs/python3/lib/python3.6/site-packages (from pyglottolog->lingtypology) (1.7.0)\n",
      "Requirement already satisfied: attrs>=19.2 in /home/ec2-user/anaconda3/envs/python3/lib/python3.6/site-packages (from pyglottolog->lingtypology) (19.3.0)\n",
      "Requirement already satisfied: whoosh in /home/ec2-user/anaconda3/envs/python3/lib/python3.6/site-packages (from pyglottolog->lingtypology) (2.7.4)\n",
      "Requirement already satisfied: pycldf>=1.6.4 in /home/ec2-user/anaconda3/envs/python3/lib/python3.6/site-packages (from pyglottolog->lingtypology) (1.14.1)\n",
      "Requirement already satisfied: MarkupSafe>=0.23 in /home/ec2-user/anaconda3/envs/python3/lib/python3.6/site-packages (from jinja2->lingtypology) (1.1.1)\n",
      "Requirement already satisfied: urllib3 in /home/ec2-user/anaconda3/envs/python3/lib/python3.6/site-packages (from selenium->lingtypology) (1.25.8)\n",
      "Requirement already satisfied: six>=1.5 in /home/ec2-user/anaconda3/envs/python3/lib/python3.6/site-packages (from python-dateutil>=2.6.1->pandas->lingtypology) (1.14.0)\n",
      "Requirement already satisfied: setuptools in /home/ec2-user/anaconda3/envs/python3/lib/python3.6/site-packages (from kiwisolver>=1.0.1->matplotlib->lingtypology) (46.1.3.post20200330)\n",
      "Requirement already satisfied: PyYAML>=3.01 in /home/ec2-user/anaconda3/envs/python3/lib/python3.6/site-packages (from pybtex>=0.22->pyglottolog->lingtypology) (5.3.1)\n",
      "Requirement already satisfied: certifi>=2017.4.17 in /home/ec2-user/anaconda3/envs/python3/lib/python3.6/site-packages (from requests->pyglottolog->lingtypology) (2020.4.5.2)\n",
      "Requirement already satisfied: chardet<4,>=3.0.2 in /home/ec2-user/anaconda3/envs/python3/lib/python3.6/site-packages (from requests->pyglottolog->lingtypology) (3.0.4)\n",
      "Requirement already satisfied: idna<3,>=2.5 in /home/ec2-user/anaconda3/envs/python3/lib/python3.6/site-packages (from requests->pyglottolog->lingtypology) (2.9)\n",
      "Requirement already satisfied: gitpython in /home/ec2-user/anaconda3/envs/python3/lib/python3.6/site-packages (from cldfcatalog->pyglottolog->lingtypology) (3.1.7)\n",
      "Requirement already satisfied: appdirs in /home/ec2-user/anaconda3/envs/python3/lib/python3.6/site-packages (from cldfcatalog->pyglottolog->lingtypology) (1.4.4)\n",
      "Requirement already satisfied: importlib-metadata; python_version < \"3.8\" in /home/ec2-user/anaconda3/envs/python3/lib/python3.6/site-packages (from markdown->pyglottolog->lingtypology) (1.5.0)\n",
      "Requirement already satisfied: colorlog in /home/ec2-user/anaconda3/envs/python3/lib/python3.6/site-packages (from clldutils>=3.5.2->pyglottolog->lingtypology) (4.2.1)\n",
      "Requirement already satisfied: tabulate>=0.7.7 in /home/ec2-user/anaconda3/envs/python3/lib/python3.6/site-packages (from clldutils>=3.5.2->pyglottolog->lingtypology) (0.8.7)\n",
      "Requirement already satisfied: uritemplate>=3.0.0 in /home/ec2-user/anaconda3/envs/python3/lib/python3.6/site-packages (from csvw>=1.5.6->pyglottolog->lingtypology) (3.0.1)\n",
      "Requirement already satisfied: isodate in /home/ec2-user/anaconda3/envs/python3/lib/python3.6/site-packages (from csvw>=1.5.6->pyglottolog->lingtypology) (0.6.0)\n",
      "Requirement already satisfied: rfc3986 in /home/ec2-user/anaconda3/envs/python3/lib/python3.6/site-packages (from csvw>=1.5.6->pyglottolog->lingtypology) (1.4.0)\n",
      "Requirement already satisfied: gitdb<5,>=4.0.1 in /home/ec2-user/anaconda3/envs/python3/lib/python3.6/site-packages (from gitpython->cldfcatalog->pyglottolog->lingtypology) (4.0.5)\n",
      "Requirement already satisfied: zipp>=0.5 in /home/ec2-user/anaconda3/envs/python3/lib/python3.6/site-packages (from importlib-metadata; python_version < \"3.8\"->markdown->pyglottolog->lingtypology) (2.2.0)\n",
      "Requirement already satisfied: smmap<4,>=3.0.1 in /home/ec2-user/anaconda3/envs/python3/lib/python3.6/site-packages (from gitdb<5,>=4.0.1->gitpython->cldfcatalog->pyglottolog->lingtypology) (3.0.4)\n",
      "\u001b[33mWARNING: You are using pip version 20.0.2; however, version 20.2.2 is available.\n",
      "You should consider upgrading via the '/home/ec2-user/anaconda3/envs/python3/bin/python -m pip install --upgrade pip' command.\u001b[0m\n"
     ]
    }
   ],
   "source": [
    "## analizamos esta base de datos usando lingtypology\n",
    "## https://oneadder.github.io/lingtypology/html/index.html\n",
    "\n",
    "!pip install lingtypology "
   ]
  },
  {
   "cell_type": "code",
   "execution_count": 27,
   "metadata": {},
   "outputs": [],
   "source": [
    "from lingtypology.datasets import Sails"
   ]
  },
  {
   "cell_type": "code",
   "execution_count": 28,
   "metadata": {},
   "outputs": [],
   "source": [
    "features_sails = Sails().features_list"
   ]
  },
  {
   "cell_type": "code",
   "execution_count": 29,
   "metadata": {},
   "outputs": [
    {
     "data": {
      "text/plain": [
       "604"
      ]
     },
     "execution_count": 29,
     "metadata": {},
     "output_type": "execute_result"
    }
   ],
   "source": [
    "## número de rasgos \n",
    "\n",
    "len(features_sails)"
   ]
  },
  {
   "cell_type": "code",
   "execution_count": 30,
   "metadata": {},
   "outputs": [
    {
     "data": {
      "text/plain": [
       "['AND1',\n",
       " 'AND10',\n",
       " 'AND11',\n",
       " 'AND12',\n",
       " 'AND13',\n",
       " 'AND14',\n",
       " 'AND15',\n",
       " 'AND16',\n",
       " 'AND17',\n",
       " 'AND18']"
      ]
     },
     "execution_count": 30,
     "metadata": {},
     "output_type": "execute_result"
    }
   ],
   "source": [
    "## algunos ejemplos\n",
    "\n",
    "features_sails[:10]"
   ]
  },
  {
   "cell_type": "code",
   "execution_count": 31,
   "metadata": {},
   "outputs": [
    {
     "name": "stdout",
     "output_type": "stream",
     "text": [
      "You probably should cite it, but I don't understand how. Please, consult https://sails.clld.org/\n"
     ]
    }
   ],
   "source": [
    "## forma de los datos: miramos el primer feature como ejemplo\n",
    "\n",
    "dict_example = Sails('AND1').get_json()"
   ]
  },
  {
   "cell_type": "code",
   "execution_count": 32,
   "metadata": {},
   "outputs": [
    {
     "data": {
      "text/plain": [
       "dict_keys(['language', 'coordinates', 'AND1', 'AND1_desc'])"
      ]
     },
     "execution_count": 32,
     "metadata": {},
     "output_type": "execute_result"
    }
   ],
   "source": [
    "## keys!\n",
    "\n",
    "dict_example.keys()"
   ]
  },
  {
   "cell_type": "code",
   "execution_count": 33,
   "metadata": {},
   "outputs": [
    {
     "data": {
      "text/plain": [
       "['North Junín Quechua',\n",
       " 'Cajamarca Quechua',\n",
       " 'Pacaraos Quechua',\n",
       " 'Imbabura Highland Quichua',\n",
       " 'Salasaca Highland Quichua',\n",
       " 'Santiago del Estero Quichua',\n",
       " 'Ayacucho Quechua',\n",
       " 'Huangascar-Topara-Yauyos Quechua',\n",
       " 'San Martín Quechua',\n",
       " 'Southern Pastaza Quechua',\n",
       " 'Tena Lowland Quichua',\n",
       " 'Cusco Quechua',\n",
       " 'Huallaga Huánuco Quechua',\n",
       " 'South Bolivian Quechua',\n",
       " 'Jauja Wanca Quechua',\n",
       " 'Callawalla',\n",
       " 'Inga',\n",
       " 'Huaylas Ancash Quechua']"
      ]
     },
     "execution_count": 33,
     "metadata": {},
     "output_type": "execute_result"
    }
   ],
   "source": [
    "dict_example['language']"
   ]
  },
  {
   "cell_type": "code",
   "execution_count": 34,
   "metadata": {},
   "outputs": [
    {
     "data": {
      "text/plain": [
       "['1',\n",
       " '1',\n",
       " '1',\n",
       " '1',\n",
       " '1',\n",
       " '1',\n",
       " '1',\n",
       " '1',\n",
       " '1',\n",
       " '1',\n",
       " '1',\n",
       " '1',\n",
       " '1',\n",
       " '1',\n",
       " '1',\n",
       " '1',\n",
       " '1',\n",
       " '1']"
      ]
     },
     "execution_count": 34,
     "metadata": {},
     "output_type": "execute_result"
    }
   ],
   "source": [
    "dict_example['AND1']"
   ]
  },
  {
   "cell_type": "markdown",
   "metadata": {},
   "source": [
    "### descarguemos los datos de SAILS"
   ]
  },
  {
   "cell_type": "code",
   "execution_count": 35,
   "metadata": {},
   "outputs": [],
   "source": [
    "## recorremos los rasgos\n",
    "\n",
    "#dict_features = {}\n",
    "\n",
    "#for feature in features_sails:\n",
    "#    dict_features[feature] = Sails(feature).get_json()"
   ]
  },
  {
   "cell_type": "code",
   "execution_count": 36,
   "metadata": {},
   "outputs": [],
   "source": [
    "## guardamos los datos\n",
    "\n",
    "import pickle\n",
    "\n",
    "pickle.dump(dict_features,open('dict_features_sails.p','wb'))"
   ]
  },
  {
   "cell_type": "code",
   "execution_count": 37,
   "metadata": {},
   "outputs": [],
   "source": [
    "## leemos los datos\n",
    "\n",
    "dict_features_sails = pickle.load(open('dict_features_sails.p','rb'))"
   ]
  },
  {
   "cell_type": "code",
   "execution_count": 38,
   "metadata": {},
   "outputs": [
    {
     "data": {
      "text/plain": [
       "{'language': ['Baniva',\n",
       "  'Apolista',\n",
       "  'Yavitero',\n",
       "  'Resígaro',\n",
       "  'Mashco Piro',\n",
       "  'Wayuu',\n",
       "  \"Yanesha'\",\n",
       "  'Nomatsiguenga',\n",
       "  'Island Carib',\n",
       "  'Curripaco',\n",
       "  'Lokono',\n",
       "  'Tereno',\n",
       "  'Baré',\n",
       "  'Yucuna',\n",
       "  'Asháninka',\n",
       "  'Palikúr',\n",
       "  'Mehináku',\n",
       "  'Achagua',\n",
       "  'Nanti',\n",
       "  'Enawené-Nawé',\n",
       "  'Apurinã',\n",
       "  'Baure',\n",
       "  'Waurá',\n",
       "  'Wapishana',\n",
       "  'Machiguenga',\n",
       "  'Paunaca',\n",
       "  'Guarequena',\n",
       "  'Guana (Brazil)',\n",
       "  'Taino',\n",
       "  'Garifuna',\n",
       "  'Piapoco',\n",
       "  'Iñapari',\n",
       "  'Tariana',\n",
       "  'Saraveca',\n",
       "  'Parecís',\n",
       "  'Maipure',\n",
       "  'Ignaciano',\n",
       "  'Chamicuro'],\n",
       " 'coordinates': [(5.26123, -67.56326999999999),\n",
       "  (-14.83, -68.66),\n",
       "  (2.800281, -68.08421899999999),\n",
       "  (-2.48139, -71.35778),\n",
       "  (-11.47453, -70.79527),\n",
       "  (10.22515, -71.81012),\n",
       "  (-10.54539, -75.31497),\n",
       "  (-11.53487, -74.43713000000001),\n",
       "  (14.290585, -61.239505),\n",
       "  (0.69618, -67.50277),\n",
       "  (5.6429525, -56.924344999999995),\n",
       "  (-20.661360000000002, -56.03292),\n",
       "  (1.9164900000000002, -66.82799),\n",
       "  (-0.76075, -71.00327),\n",
       "  (-11.93109, -73.90728),\n",
       "  (3.63993, -51.62465),\n",
       "  (-12.536389999999999, -53.52095),\n",
       "  (4.38649, -72.2005),\n",
       "  (-12.10185, -72.35065999999999),\n",
       "  (-12.43024, -58.9802),\n",
       "  (-8.21692, -66.77141),\n",
       "  (-13.12775, -64.18381),\n",
       "  (-13.295979999999998, -53.697109999999995),\n",
       "  (2.5874349999999997, -59.802119999999995),\n",
       "  (-12.12905, -72.50171),\n",
       "  (-16.770833, -61.454167000000005),\n",
       "  (1.80835, -66.922505),\n",
       "  (-19.16665, -54.033319999999996),\n",
       "  (18.283604999999998, -66.8042),\n",
       "  (15.352867499999999, -86.90905749999999),\n",
       "  (4.37718, -68.595285),\n",
       "  (-12.46525, -69.30827),\n",
       "  (0.440205, -68.904165),\n",
       "  (-11.94232, -65.39446),\n",
       "  (-14.59295, -57.40595),\n",
       "  (4.8, -67.5),\n",
       "  (-15.118820000000001, -65.39934000000001),\n",
       "  (-5.1149, -75.67785)],\n",
       " 'ARW1': ['?',\n",
       "  '?',\n",
       "  '?',\n",
       "  '1',\n",
       "  '?',\n",
       "  '0',\n",
       "  '1',\n",
       "  '1',\n",
       "  '1',\n",
       "  '?',\n",
       "  '0',\n",
       "  '1',\n",
       "  '1',\n",
       "  '0',\n",
       "  '1',\n",
       "  '1',\n",
       "  '?',\n",
       "  '0',\n",
       "  '1',\n",
       "  '?',\n",
       "  '1',\n",
       "  '1',\n",
       "  '1',\n",
       "  '1',\n",
       "  '1',\n",
       "  '1',\n",
       "  '?',\n",
       "  '?',\n",
       "  '?',\n",
       "  '?',\n",
       "  '0',\n",
       "  '1',\n",
       "  '0',\n",
       "  '1',\n",
       "  '1',\n",
       "  '1',\n",
       "  '1',\n",
       "  '?'],\n",
       " 'ARW1_desc': ['?',\n",
       "  '?',\n",
       "  '?',\n",
       "  'Yes',\n",
       "  '?',\n",
       "  'No',\n",
       "  'Yes',\n",
       "  'Yes',\n",
       "  'Yes',\n",
       "  '?',\n",
       "  'No',\n",
       "  'Yes',\n",
       "  'Yes',\n",
       "  'No',\n",
       "  'Yes',\n",
       "  'Yes',\n",
       "  '?',\n",
       "  'No',\n",
       "  'Yes',\n",
       "  '?',\n",
       "  'Yes',\n",
       "  'Yes',\n",
       "  'Yes',\n",
       "  'Yes',\n",
       "  'Yes',\n",
       "  'Yes',\n",
       "  '?',\n",
       "  '?',\n",
       "  '?',\n",
       "  '?',\n",
       "  'No',\n",
       "  'Yes',\n",
       "  'No',\n",
       "  'Yes',\n",
       "  'Yes',\n",
       "  'Yes',\n",
       "  'Yes',\n",
       "  '?']}"
      ]
     },
     "execution_count": 38,
     "metadata": {},
     "output_type": "execute_result"
    }
   ],
   "source": [
    "\n",
    "dict_features_sails['ARW1']"
   ]
  },
  {
   "cell_type": "code",
   "execution_count": null,
   "metadata": {},
   "outputs": [],
   "source": []
  }
 ],
 "metadata": {
  "kernelspec": {
   "display_name": "conda_python3",
   "language": "python",
   "name": "conda_python3"
  },
  "language_info": {
   "codemirror_mode": {
    "name": "ipython",
    "version": 3
   },
   "file_extension": ".py",
   "mimetype": "text/x-python",
   "name": "python",
   "nbconvert_exporter": "python",
   "pygments_lexer": "ipython3",
   "version": "3.6.10"
  }
 },
 "nbformat": 4,
 "nbformat_minor": 4
}
